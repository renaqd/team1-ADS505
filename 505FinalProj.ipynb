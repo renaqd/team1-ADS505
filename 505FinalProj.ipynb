{
 "cells": [
  {
   "cell_type": "code",
   "execution_count": 3,
   "metadata": {},
   "outputs": [],
   "source": [
    "import pandas as pd\n",
    "import numpy as np\n",
    "import matplotlib.pyplot as plt\n"
   ]
  },
  {
   "cell_type": "code",
   "execution_count": 15,
   "metadata": {},
   "outputs": [],
   "source": [
    "#combined the review csv into combined reviews csv, reading that combined csv rather than import them all separately then combine the\n",
    "combined_reviews_df = pd.read_csv('/Users/mattammirati/Desktop/Matts505FinalProject/datasets/combined_reviews.csv')\n",
    "product_info_df = pd.read_csv('/Users/mattammirati/Desktop/Matts505FinalProject/datasets/product_info (1).csv')"
   ]
  },
  {
   "cell_type": "code",
   "execution_count": 13,
   "metadata": {},
   "outputs": [
    {
     "data": {
      "text/plain": [
       "(561621, 19)"
      ]
     },
     "execution_count": 13,
     "metadata": {},
     "output_type": "execute_result"
    }
   ],
   "source": [
    "combined_reviews_df.shape\n"
   ]
  },
  {
   "cell_type": "code",
   "execution_count": 14,
   "metadata": {},
   "outputs": [
    {
     "data": {
      "text/plain": [
       "(8494, 27)"
      ]
     },
     "execution_count": 14,
     "metadata": {},
     "output_type": "execute_result"
    }
   ],
   "source": [
    "product_info_df.shape"
   ]
  },
  {
   "cell_type": "code",
   "execution_count": 16,
   "metadata": {},
   "outputs": [
    {
     "data": {
      "text/html": [
       "<div>\n",
       "<style scoped>\n",
       "    .dataframe tbody tr th:only-of-type {\n",
       "        vertical-align: middle;\n",
       "    }\n",
       "\n",
       "    .dataframe tbody tr th {\n",
       "        vertical-align: top;\n",
       "    }\n",
       "\n",
       "    .dataframe thead th {\n",
       "        text-align: right;\n",
       "    }\n",
       "</style>\n",
       "<table border=\"1\" class=\"dataframe\">\n",
       "  <thead>\n",
       "    <tr style=\"text-align: right;\">\n",
       "      <th></th>\n",
       "      <th>Unnamed: 0</th>\n",
       "      <th>author_id</th>\n",
       "      <th>rating</th>\n",
       "      <th>is_recommended</th>\n",
       "      <th>helpfulness</th>\n",
       "      <th>total_feedback_count</th>\n",
       "      <th>total_neg_feedback_count</th>\n",
       "      <th>total_pos_feedback_count</th>\n",
       "      <th>submission_time</th>\n",
       "      <th>review_text</th>\n",
       "      <th>review_title</th>\n",
       "      <th>skin_tone</th>\n",
       "      <th>eye_color</th>\n",
       "      <th>skin_type</th>\n",
       "      <th>hair_color</th>\n",
       "      <th>product_id</th>\n",
       "      <th>product_name</th>\n",
       "      <th>brand_name</th>\n",
       "      <th>price_usd</th>\n",
       "    </tr>\n",
       "  </thead>\n",
       "  <tbody>\n",
       "    <tr>\n",
       "      <th>0</th>\n",
       "      <td>0</td>\n",
       "      <td>2190293206</td>\n",
       "      <td>2</td>\n",
       "      <td>0.0</td>\n",
       "      <td>NaN</td>\n",
       "      <td>0</td>\n",
       "      <td>0</td>\n",
       "      <td>0</td>\n",
       "      <td>2023-03-19</td>\n",
       "      <td>Used to swear by this product but hate the sme...</td>\n",
       "      <td>NaN</td>\n",
       "      <td>lightMedium</td>\n",
       "      <td>brown</td>\n",
       "      <td>combination</td>\n",
       "      <td>brown</td>\n",
       "      <td>P443842</td>\n",
       "      <td>Retinol Anti-Aging Serum</td>\n",
       "      <td>The INKEY List</td>\n",
       "      <td>12.99</td>\n",
       "    </tr>\n",
       "    <tr>\n",
       "      <th>1</th>\n",
       "      <td>1</td>\n",
       "      <td>9113341005</td>\n",
       "      <td>5</td>\n",
       "      <td>1.0</td>\n",
       "      <td>NaN</td>\n",
       "      <td>0</td>\n",
       "      <td>0</td>\n",
       "      <td>0</td>\n",
       "      <td>2023-03-18</td>\n",
       "      <td>I’ve only been using this for a week and my sk...</td>\n",
       "      <td>More tolerable than The Ordinary</td>\n",
       "      <td>deep</td>\n",
       "      <td>brown</td>\n",
       "      <td>normal</td>\n",
       "      <td>black</td>\n",
       "      <td>P443842</td>\n",
       "      <td>Retinol Anti-Aging Serum</td>\n",
       "      <td>The INKEY List</td>\n",
       "      <td>12.99</td>\n",
       "    </tr>\n",
       "    <tr>\n",
       "      <th>2</th>\n",
       "      <td>2</td>\n",
       "      <td>23866342710</td>\n",
       "      <td>1</td>\n",
       "      <td>0.0</td>\n",
       "      <td>1.000000</td>\n",
       "      <td>13</td>\n",
       "      <td>0</td>\n",
       "      <td>13</td>\n",
       "      <td>2023-03-12</td>\n",
       "      <td>Why, why, why would you change the formula?!!!...</td>\n",
       "      <td>New formula is awful very sad</td>\n",
       "      <td>fairLight</td>\n",
       "      <td>blue</td>\n",
       "      <td>combination</td>\n",
       "      <td>blonde</td>\n",
       "      <td>P443842</td>\n",
       "      <td>Retinol Anti-Aging Serum</td>\n",
       "      <td>The INKEY List</td>\n",
       "      <td>12.99</td>\n",
       "    </tr>\n",
       "    <tr>\n",
       "      <th>3</th>\n",
       "      <td>3</td>\n",
       "      <td>1328806527</td>\n",
       "      <td>1</td>\n",
       "      <td>0.0</td>\n",
       "      <td>0.941176</td>\n",
       "      <td>17</td>\n",
       "      <td>1</td>\n",
       "      <td>16</td>\n",
       "      <td>2023-03-12</td>\n",
       "      <td>I have used this product for years and it has ...</td>\n",
       "      <td>Recently reformulated and the new formula is A...</td>\n",
       "      <td>light</td>\n",
       "      <td>brown</td>\n",
       "      <td>combination</td>\n",
       "      <td>gray</td>\n",
       "      <td>P443842</td>\n",
       "      <td>Retinol Anti-Aging Serum</td>\n",
       "      <td>The INKEY List</td>\n",
       "      <td>12.99</td>\n",
       "    </tr>\n",
       "    <tr>\n",
       "      <th>4</th>\n",
       "      <td>4</td>\n",
       "      <td>31262847082</td>\n",
       "      <td>5</td>\n",
       "      <td>1.0</td>\n",
       "      <td>1.000000</td>\n",
       "      <td>1</td>\n",
       "      <td>0</td>\n",
       "      <td>1</td>\n",
       "      <td>2023-03-09</td>\n",
       "      <td>Great product for anti-aging Also great for da...</td>\n",
       "      <td>Must have product in my nighttime skincare rou...</td>\n",
       "      <td>lightMedium</td>\n",
       "      <td>hazel</td>\n",
       "      <td>combination</td>\n",
       "      <td>brown</td>\n",
       "      <td>P443842</td>\n",
       "      <td>Retinol Anti-Aging Serum</td>\n",
       "      <td>The INKEY List</td>\n",
       "      <td>12.99</td>\n",
       "    </tr>\n",
       "  </tbody>\n",
       "</table>\n",
       "</div>"
      ],
      "text/plain": [
       "   Unnamed: 0    author_id  rating  is_recommended  helpfulness  \\\n",
       "0           0   2190293206       2             0.0          NaN   \n",
       "1           1   9113341005       5             1.0          NaN   \n",
       "2           2  23866342710       1             0.0     1.000000   \n",
       "3           3   1328806527       1             0.0     0.941176   \n",
       "4           4  31262847082       5             1.0     1.000000   \n",
       "\n",
       "   total_feedback_count  total_neg_feedback_count  total_pos_feedback_count  \\\n",
       "0                     0                         0                         0   \n",
       "1                     0                         0                         0   \n",
       "2                    13                         0                        13   \n",
       "3                    17                         1                        16   \n",
       "4                     1                         0                         1   \n",
       "\n",
       "  submission_time                                        review_text  \\\n",
       "0      2023-03-19  Used to swear by this product but hate the sme...   \n",
       "1      2023-03-18  I’ve only been using this for a week and my sk...   \n",
       "2      2023-03-12  Why, why, why would you change the formula?!!!...   \n",
       "3      2023-03-12  I have used this product for years and it has ...   \n",
       "4      2023-03-09  Great product for anti-aging Also great for da...   \n",
       "\n",
       "                                        review_title    skin_tone eye_color  \\\n",
       "0                                                NaN  lightMedium     brown   \n",
       "1                   More tolerable than The Ordinary         deep     brown   \n",
       "2                      New formula is awful very sad    fairLight      blue   \n",
       "3  Recently reformulated and the new formula is A...        light     brown   \n",
       "4  Must have product in my nighttime skincare rou...  lightMedium     hazel   \n",
       "\n",
       "     skin_type hair_color product_id              product_name  \\\n",
       "0  combination      brown    P443842  Retinol Anti-Aging Serum   \n",
       "1       normal      black    P443842  Retinol Anti-Aging Serum   \n",
       "2  combination     blonde    P443842  Retinol Anti-Aging Serum   \n",
       "3  combination       gray    P443842  Retinol Anti-Aging Serum   \n",
       "4  combination      brown    P443842  Retinol Anti-Aging Serum   \n",
       "\n",
       "       brand_name  price_usd  \n",
       "0  The INKEY List      12.99  \n",
       "1  The INKEY List      12.99  \n",
       "2  The INKEY List      12.99  \n",
       "3  The INKEY List      12.99  \n",
       "4  The INKEY List      12.99  "
      ]
     },
     "execution_count": 16,
     "metadata": {},
     "output_type": "execute_result"
    }
   ],
   "source": [
    "combined_reviews_df.head(5)"
   ]
  },
  {
   "cell_type": "code",
   "execution_count": 17,
   "metadata": {},
   "outputs": [
    {
     "data": {
      "text/plain": [
       "Unnamed: 0                       0\n",
       "author_id                        0\n",
       "rating                           0\n",
       "is_recommended               55581\n",
       "helpfulness                 268312\n",
       "total_feedback_count             0\n",
       "total_neg_feedback_count         0\n",
       "total_pos_feedback_count         0\n",
       "submission_time                  0\n",
       "review_text                    475\n",
       "review_title                164821\n",
       "skin_tone                    72530\n",
       "eye_color                    79543\n",
       "skin_type                    40848\n",
       "hair_color                   97393\n",
       "product_id                       0\n",
       "product_name                     0\n",
       "brand_name                       0\n",
       "price_usd                        0\n",
       "dtype: int64"
      ]
     },
     "execution_count": 17,
     "metadata": {},
     "output_type": "execute_result"
    }
   ],
   "source": [
    "combined_reviews_df.isnull().sum()"
   ]
  },
  {
   "cell_type": "code",
   "execution_count": null,
   "metadata": {},
   "outputs": [],
   "source": []
  },
  {
   "cell_type": "code",
   "execution_count": null,
   "metadata": {},
   "outputs": [],
   "source": []
  }
 ],
 "metadata": {
  "kernelspec": {
   "display_name": "Python 3 (ipykernel)",
   "language": "python",
   "name": "python3"
  },
  "language_info": {
   "codemirror_mode": {
    "name": "ipython",
    "version": 3
   },
   "file_extension": ".py",
   "mimetype": "text/x-python",
   "name": "python",
   "nbconvert_exporter": "python",
   "pygments_lexer": "ipython3",
   "version": "3.11.5"
  }
 },
 "nbformat": 4,
 "nbformat_minor": 2
}
